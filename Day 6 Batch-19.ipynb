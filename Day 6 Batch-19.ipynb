{
 "cells": [
  {
   "cell_type": "code",
   "execution_count": null,
   "metadata": {},
   "outputs": [],
   "source": [
    "for loop introduction:"
   ]
  },
  {
   "cell_type": "code",
   "execution_count": 1,
   "metadata": {},
   "outputs": [
    {
     "name": "stdout",
     "output_type": "stream",
     "text": [
      "['carrot', 'tomato', 'potato', 'cabbage']\n"
     ]
    }
   ],
   "source": [
    "veggies=[\"carrot\",\"tomato\",\"potato\",\"cabbage\"]\n",
    "print(veggies)"
   ]
  },
  {
   "cell_type": "code",
   "execution_count": 2,
   "metadata": {},
   "outputs": [
    {
     "data": {
      "text/plain": [
       "list"
      ]
     },
     "execution_count": 2,
     "metadata": {},
     "output_type": "execute_result"
    }
   ],
   "source": [
    "type(veggies)"
   ]
  },
  {
   "cell_type": "code",
   "execution_count": null,
   "metadata": {},
   "outputs": [],
   "source": []
  },
  {
   "cell_type": "code",
   "execution_count": null,
   "metadata": {},
   "outputs": [],
   "source": [
    "By using the concept of f-strings"
   ]
  },
  {
   "cell_type": "code",
   "execution_count": 4,
   "metadata": {},
   "outputs": [
    {
     "name": "stdout",
     "output_type": "stream",
     "text": [
      "i want to buy, tomato\n"
     ]
    }
   ],
   "source": [
    "print(f\"i want to buy, {veggies[1]}\")"
   ]
  },
  {
   "cell_type": "code",
   "execution_count": null,
   "metadata": {},
   "outputs": [],
   "source": [
    "if i want to consider all the elements from the list then we use for loop here:"
   ]
  },
  {
   "cell_type": "code",
   "execution_count": 5,
   "metadata": {},
   "outputs": [
    {
     "name": "stdout",
     "output_type": "stream",
     "text": [
      "['carrot', 'tomato', 'potato', 'cabbage']\n"
     ]
    }
   ],
   "source": [
    "print(veggies)"
   ]
  },
  {
   "cell_type": "code",
   "execution_count": 7,
   "metadata": {},
   "outputs": [
    {
     "name": "stdout",
     "output_type": "stream",
     "text": [
      "i want to buy, carrot\n",
      "i want to buy, tomato\n",
      "i want to buy, potato\n",
      "i want to buy, cabbage\n"
     ]
    }
   ],
   "source": [
    "for yum in veggies:\n",
    "    print(f\"i want to buy, {yum}\")"
   ]
  },
  {
   "cell_type": "code",
   "execution_count": null,
   "metadata": {},
   "outputs": [],
   "source": []
  },
  {
   "cell_type": "code",
   "execution_count": null,
   "metadata": {},
   "outputs": [],
   "source": [
    "General syntax of a for loop:"
   ]
  },
  {
   "cell_type": "code",
   "execution_count": null,
   "metadata": {},
   "outputs": [],
   "source": [
    "for temparary_variable in main_variable:\n",
    "    print(temparary_variable)     #---- identation (gap on left side)"
   ]
  },
  {
   "cell_type": "code",
   "execution_count": 8,
   "metadata": {},
   "outputs": [
    {
     "name": "stdout",
     "output_type": "stream",
     "text": [
      "i want to buy, carrot\n",
      "i want to buy, tomato\n",
      "i want to buy, potato\n",
      "i want to buy, cabbage\n"
     ]
    }
   ],
   "source": [
    "for i in veggies:\n",
    "    print(f\"i want to buy, {i}\")   #----- tempvar we can take any name"
   ]
  },
  {
   "cell_type": "code",
   "execution_count": 9,
   "metadata": {},
   "outputs": [
    {
     "name": "stdout",
     "output_type": "stream",
     "text": [
      "i want to buy, carrot\n",
      "and i really like to eat them, carrot\n",
      "i want to buy, tomato\n",
      "and i really like to eat them, tomato\n",
      "i want to buy, potato\n",
      "and i really like to eat them, potato\n",
      "i want to buy, cabbage\n",
      "and i really like to eat them, cabbage\n"
     ]
    }
   ],
   "source": [
    "for x in veggies:\n",
    "    print(f\"i want to buy, {x}\") \n",
    "    print(f\"and i really like to eat them, {x}\") "
   ]
  },
  {
   "cell_type": "code",
   "execution_count": 10,
   "metadata": {},
   "outputs": [
    {
     "name": "stdout",
     "output_type": "stream",
     "text": [
      "i want to buy, carrot.\n",
      "and i really like to eat them, carrot.\n",
      "\n",
      "i want to buy, tomato.\n",
      "and i really like to eat them, tomato.\n",
      "\n",
      "i want to buy, potato.\n",
      "and i really like to eat them, potato.\n",
      "\n",
      "i want to buy, cabbage.\n",
      "and i really like to eat them, cabbage.\n",
      "\n"
     ]
    }
   ],
   "source": [
    "for x in veggies:\n",
    "    print(f\"i want to buy, {x}.\") \n",
    "    print(f\"and i really like to eat them, {x}.\\n\")    #---\\n is to print in new line"
   ]
  },
  {
   "cell_type": "code",
   "execution_count": null,
   "metadata": {},
   "outputs": [],
   "source": []
  },
  {
   "cell_type": "code",
   "execution_count": null,
   "metadata": {},
   "outputs": [],
   "source": []
  },
  {
   "cell_type": "code",
   "execution_count": null,
   "metadata": {},
   "outputs": [],
   "source": []
  },
  {
   "cell_type": "code",
   "execution_count": null,
   "metadata": {},
   "outputs": [],
   "source": []
  }
 ],
 "metadata": {
  "kernelspec": {
   "display_name": "Python 3",
   "language": "python",
   "name": "python3"
  },
  "language_info": {
   "codemirror_mode": {
    "name": "ipython",
    "version": 3
   },
   "file_extension": ".py",
   "mimetype": "text/x-python",
   "name": "python",
   "nbconvert_exporter": "python",
   "pygments_lexer": "ipython3",
   "version": "3.7.6"
  }
 },
 "nbformat": 4,
 "nbformat_minor": 4
}
