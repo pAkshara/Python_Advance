{
 "cells": [
  {
   "cell_type": "code",
   "execution_count": null,
   "metadata": {},
   "outputs": [],
   "source": [
    "****Introduction to constructor : (magical method/special method/ initialization method)"
   ]
  },
  {
   "cell_type": "code",
   "execution_count": null,
   "metadata": {},
   "outputs": [],
   "source": [
    "req: creating a Dog class---->\n",
    "    methods i want to create \n",
    "                1.sit\n",
    "                2.jump\n",
    "                3.roll_over\n",
    "                4.sleep"
   ]
  },
  {
   "cell_type": "code",
   "execution_count": 1,
   "metadata": {},
   "outputs": [],
   "source": [
    "class Dog:    # --created a class with class_name:Dog\n",
    "    \"\"\"A simple attempt to model a dog.\"\"\"   #----->doc string -commenting inside a class\n",
    "    def __init__(self,name,age):    #------>complusary to use double underscore in constructor\n",
    "        \"\"\"initialize name and age attributes\"\"\"\n",
    "        self.name=name    #------>attributes given \n",
    "        self.age=age\n",
    "        print('it got executed')\n",
    "    def sit(self):               #-----> methods used inside the class\n",
    "        \"\"\"simulate a dog sitting in respond to a command\"\"\"\n",
    "        print(f\" {self.name} is now sitting\")\n",
    "    def jump(self):\n",
    "        \"\"\"simulate jumping in respond to a command\"\"\"\n",
    "        print(f\"{self.name} is now jumping\")\n",
    "    def roll_over(self):\n",
    "        \"\"\"simulate rolling over in respond to a command\"\"\"\n",
    "        print(f\"{self.name} is now rolling over \")\n",
    "    def sleep(self):\n",
    "        \"\"\"simulate sleeping in respond to a command\"\"\"\n",
    "        print(f\" {self.name} is now sleeping\")"
   ]
  },
  {
   "cell_type": "code",
   "execution_count": 2,
   "metadata": {},
   "outputs": [
    {
     "name": "stdout",
     "output_type": "stream",
     "text": [
      "it got executed\n"
     ]
    }
   ],
   "source": [
    "d=Dog('rex',4)    #----> passing the arguments here itself"
   ]
  },
  {
   "cell_type": "code",
   "execution_count": 3,
   "metadata": {},
   "outputs": [
    {
     "name": "stdout",
     "output_type": "stream",
     "text": [
      " rex is now sitting\n"
     ]
    }
   ],
   "source": [
    "d.sit()           #-----> assigning the method here with required object *(d - object created)*"
   ]
  },
  {
   "cell_type": "code",
   "execution_count": 4,
   "metadata": {},
   "outputs": [
    {
     "name": "stdout",
     "output_type": "stream",
     "text": [
      "rex is now jumping\n"
     ]
    }
   ],
   "source": [
    "d.jump()"
   ]
  },
  {
   "cell_type": "code",
   "execution_count": 5,
   "metadata": {},
   "outputs": [
    {
     "name": "stdout",
     "output_type": "stream",
     "text": [
      "rex is now rolling over \n"
     ]
    }
   ],
   "source": [
    "d.roll_over()"
   ]
  },
  {
   "cell_type": "code",
   "execution_count": 6,
   "metadata": {},
   "outputs": [
    {
     "name": "stdout",
     "output_type": "stream",
     "text": [
      " rex is now sleeping\n"
     ]
    }
   ],
   "source": [
    "d.sleep()"
   ]
  },
  {
   "cell_type": "code",
   "execution_count": null,
   "metadata": {},
   "outputs": [],
   "source": []
  },
  {
   "cell_type": "code",
   "execution_count": null,
   "metadata": {},
   "outputs": [],
   "source": []
  },
  {
   "cell_type": "code",
   "execution_count": null,
   "metadata": {},
   "outputs": [],
   "source": []
  },
  {
   "cell_type": "code",
   "execution_count": null,
   "metadata": {},
   "outputs": [],
   "source": []
  },
  {
   "cell_type": "code",
   "execution_count": null,
   "metadata": {},
   "outputs": [],
   "source": []
  },
  {
   "cell_type": "code",
   "execution_count": null,
   "metadata": {},
   "outputs": [],
   "source": []
  },
  {
   "cell_type": "code",
   "execution_count": null,
   "metadata": {},
   "outputs": [],
   "source": []
  }
 ],
 "metadata": {
  "kernelspec": {
   "display_name": "Python 3",
   "language": "python",
   "name": "python3"
  },
  "language_info": {
   "codemirror_mode": {
    "name": "ipython",
    "version": 3
   },
   "file_extension": ".py",
   "mimetype": "text/x-python",
   "name": "python",
   "nbconvert_exporter": "python",
   "pygments_lexer": "ipython3",
   "version": "3.7.6"
  }
 },
 "nbformat": 4,
 "nbformat_minor": 4
}
